{
 "cells": [
  {
   "attachments": {},
   "cell_type": "markdown",
   "metadata": {},
   "source": [
    "# Downloading and preparing stock data"
   ]
  },
  {
   "cell_type": "code",
   "execution_count": 4,
   "metadata": {},
   "outputs": [
    {
     "name": "stdout",
     "output_type": "stream",
     "text": [
      "[*********************100%***********************]  1 of 1 completed\n"
     ]
    }
   ],
   "source": [
    "# %%\n",
    "import numpy as np\n",
    "import pandas as pd\n",
    "import matplotlib.pyplot as plt\n",
    "import yfinance as yf\n",
    "\n",
    "from sklearn.model_selection import train_test_split\n",
    "from sklearn.linear_model import LinearRegression\n",
    "from sklearn.tree import DecisionTreeRegressor\n",
    "from sklearn.metrics import r2_score\n",
    "\n",
    "start_date = '2010-01-01'\n",
    "end_date = '2020-01-01'\n",
    "ticker = '^OMX'\n",
    "df = yf.download(ticker,start_date,end_date)\n",
    "df.index = df.index.date\n",
    "df.index.name = \"Date\""
   ]
  },
  {
   "cell_type": "code",
   "execution_count": null,
   "metadata": {},
   "outputs": [],
   "source": [
    "# %%\n",
    "# Stock price plot\n",
    "df['Adj Close'].plot(figsize=(10,7))\n",
    "plt.title(\"%s Stock Price\" %ticker,fontsize=17)\n",
    "plt.xlabel(\"Time\",fontsize=14)\n",
    "plt.ylabel(\"Price\",fontsize=14)\n",
    "plt.grid(which=\"major\", color='k',linestyle='-.',linewidth=0.5)"
   ]
  },
  {
   "cell_type": "code",
   "execution_count": null,
   "metadata": {},
   "outputs": [],
   "source": [
    "# %%\n",
    "# check for missing values\n",
    "df.isna().any()"
   ]
  },
  {
   "cell_type": "code",
   "execution_count": null,
   "metadata": {},
   "outputs": [],
   "source": [
    "\n",
    "# %%\n",
    "# Preparing X and y to train\n",
    "#data = df.reset_index()\n",
    "#X = np.array(data.index).reshape(-1,1)\n",
    "\n",
    "df2 = df['Adj Close']\n",
    "df2 = pd.DataFrame(df2)\n",
    "df2\n",
    "\n",
    "days_predicted = 500\n",
    "df2['Prediction'] = df2['Adj Close'].shift(-days_predicted)\n",
    "\n",
    "X = np.array(df2.drop(['Prediction'], 1))[:-days_predicted]\n",
    "\n",
    "y = np.array(df2['Prediction'])[:-days_predicted]\n",
    "\n",
    "X_train, X_test, y_train, y_test = train_test_split(X, y, random_state=1, train_size=0.75)"
   ]
  },
  {
   "cell_type": "code",
   "execution_count": null,
   "metadata": {},
   "outputs": [],
   "source": [
    "# %% [markdown]\n",
    "# # Decision tree regression\n",
    "\n",
    "# %%\n",
    "tree = DecisionTreeRegressor().fit(X_train, y_train)\n",
    "\n",
    "X_future = df2.drop(['Prediction'], 1)[:-days_predicted]\n",
    "X_future = X_future.tail(days_predicted)\n",
    "X_future = np.array(X_future)\n",
    "X_future[0:10]"
   ]
  },
  {
   "cell_type": "code",
   "execution_count": null,
   "metadata": {},
   "outputs": [],
   "source": [
    "# %%\n",
    "predictions = tree.predict(X_future)\n",
    "valid = df2[X.shape[0]:]\n",
    "valid['Predictions'] = predictions\n",
    "\n",
    "plt.figure(figsize=(10,7))\n",
    "plt.title(\"Model\")\n",
    "plt.xlabel('Days')\n",
    "plt.ylabel('Close Price USD ($)')\n",
    "plt.plot(df2['Adj Close'])\n",
    "plt.plot(valid[['Adj Close', 'Predictions']])\n",
    "plt.grid(which=\"major\", color='k',linestyle='-.',linewidth=0.5)\n",
    "plt.legend([\"Original\", \"Valid\", 'Predicted'])\n",
    "plt.show()"
   ]
  }
 ],
 "metadata": {
  "kernelspec": {
   "display_name": ".venv",
   "language": "python",
   "name": "python3"
  },
  "language_info": {
   "codemirror_mode": {
    "name": "ipython",
    "version": 3
   },
   "file_extension": ".py",
   "mimetype": "text/x-python",
   "name": "python",
   "nbconvert_exporter": "python",
   "pygments_lexer": "ipython3",
   "version": "3.11.1"
  },
  "orig_nbformat": 4,
  "vscode": {
   "interpreter": {
    "hash": "5e7ed26af09911e8b9ef1676a328d6dc80c612ee33494e31f979938eb6abde68"
   }
  }
 },
 "nbformat": 4,
 "nbformat_minor": 2
}
