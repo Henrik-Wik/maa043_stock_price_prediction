{
 "cells": [
  {
   "cell_type": "code",
   "execution_count": 1,
   "metadata": {},
   "outputs": [
    {
     "name": "stdout",
     "output_type": "stream",
     "text": [
      "[*********************100%***********************]  1 of 1 completed\n"
     ]
    },
    {
     "data": {
      "text/html": [
       "<div>\n",
       "<style scoped>\n",
       "    .dataframe tbody tr th:only-of-type {\n",
       "        vertical-align: middle;\n",
       "    }\n",
       "\n",
       "    .dataframe tbody tr th {\n",
       "        vertical-align: top;\n",
       "    }\n",
       "\n",
       "    .dataframe thead th {\n",
       "        text-align: right;\n",
       "    }\n",
       "</style>\n",
       "<table border=\"1\" class=\"dataframe\">\n",
       "  <thead>\n",
       "    <tr style=\"text-align: right;\">\n",
       "      <th></th>\n",
       "      <th>Open</th>\n",
       "      <th>High</th>\n",
       "      <th>Low</th>\n",
       "      <th>Close</th>\n",
       "      <th>Adj Close</th>\n",
       "      <th>Volume</th>\n",
       "    </tr>\n",
       "    <tr>\n",
       "      <th>Date</th>\n",
       "      <th></th>\n",
       "      <th></th>\n",
       "      <th></th>\n",
       "      <th></th>\n",
       "      <th></th>\n",
       "      <th></th>\n",
       "    </tr>\n",
       "  </thead>\n",
       "  <tbody>\n",
       "    <tr>\n",
       "      <th>2010-01-04</th>\n",
       "      <td>33.375000</td>\n",
       "      <td>33.875000</td>\n",
       "      <td>33.375000</td>\n",
       "      <td>33.825001</td>\n",
       "      <td>23.078619</td>\n",
       "      <td>6739900</td>\n",
       "    </tr>\n",
       "    <tr>\n",
       "      <th>2010-01-05</th>\n",
       "      <td>33.875000</td>\n",
       "      <td>34.099998</td>\n",
       "      <td>33.775002</td>\n",
       "      <td>34.000000</td>\n",
       "      <td>23.198019</td>\n",
       "      <td>2981928</td>\n",
       "    </tr>\n",
       "    <tr>\n",
       "      <th>2010-01-07</th>\n",
       "      <td>33.724998</td>\n",
       "      <td>34.224998</td>\n",
       "      <td>33.674999</td>\n",
       "      <td>33.900002</td>\n",
       "      <td>23.129789</td>\n",
       "      <td>6745776</td>\n",
       "    </tr>\n",
       "    <tr>\n",
       "      <th>2010-01-08</th>\n",
       "      <td>34.049999</td>\n",
       "      <td>34.099998</td>\n",
       "      <td>33.750000</td>\n",
       "      <td>33.950001</td>\n",
       "      <td>23.163904</td>\n",
       "      <td>5780292</td>\n",
       "    </tr>\n",
       "    <tr>\n",
       "      <th>2010-01-11</th>\n",
       "      <td>34.125000</td>\n",
       "      <td>34.250000</td>\n",
       "      <td>33.900002</td>\n",
       "      <td>33.950001</td>\n",
       "      <td>23.163904</td>\n",
       "      <td>5140340</td>\n",
       "    </tr>\n",
       "  </tbody>\n",
       "</table>\n",
       "</div>"
      ],
      "text/plain": [
       "                 Open       High        Low      Close  Adj Close   Volume\n",
       "Date                                                                      \n",
       "2010-01-04  33.375000  33.875000  33.375000  33.825001  23.078619  6739900\n",
       "2010-01-05  33.875000  34.099998  33.775002  34.000000  23.198019  2981928\n",
       "2010-01-07  33.724998  34.224998  33.674999  33.900002  23.129789  6745776\n",
       "2010-01-08  34.049999  34.099998  33.750000  33.950001  23.163904  5780292\n",
       "2010-01-11  34.125000  34.250000  33.900002  33.950001  23.163904  5140340"
      ]
     },
     "execution_count": 1,
     "metadata": {},
     "output_type": "execute_result"
    }
   ],
   "source": [
    "import pandas as pd\n",
    "import numpy as np\n",
    "import yfinance as yf\n",
    "import tensorflow as tf\n",
    "import matplotlib.pyplot as plt\n",
    "\n",
    "\n",
    "from keras.models import Sequential\n",
    "from keras.layers import Dense\n",
    "\n",
    "start_date = '2010-01-01'\n",
    "end_date = '2020-01-01'\n",
    "ticker = 'INVE-B.ST'\n",
    "df = yf.download(ticker, start_date, end_date)\n",
    "df.index = df.index.date\n",
    "df.index.name = \"Date\"\n",
    "\n",
    "df.head()"
   ]
  },
  {
   "cell_type": "code",
   "execution_count": null,
   "metadata": {},
   "outputs": [],
   "source": []
  }
 ],
 "metadata": {
  "kernelspec": {
   "display_name": ".venv",
   "language": "python",
   "name": "python3"
  },
  "language_info": {
   "codemirror_mode": {
    "name": "ipython",
    "version": 3
   },
   "file_extension": ".py",
   "mimetype": "text/x-python",
   "name": "python",
   "nbconvert_exporter": "python",
   "pygments_lexer": "ipython3",
   "version": "3.10.9"
  },
  "orig_nbformat": 4
 },
 "nbformat": 4,
 "nbformat_minor": 2
}
