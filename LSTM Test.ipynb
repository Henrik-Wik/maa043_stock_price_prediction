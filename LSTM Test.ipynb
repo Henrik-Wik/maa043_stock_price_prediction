{
 "cells": [
  {
   "attachments": {},
   "cell_type": "markdown",
   "metadata": {},
   "source": [
    "# LSTM Stock Price Prediction"
   ]
  },
  {
   "attachments": {},
   "cell_type": "markdown",
   "metadata": {},
   "source": [
    "## Start with imports, downloading and preparing data."
   ]
  },
  {
   "cell_type": "code",
   "execution_count": 30,
   "metadata": {},
   "outputs": [
    {
     "name": "stdout",
     "output_type": "stream",
     "text": [
      "[*********************100%***********************]  1 of 1 completed\n"
     ]
    },
    {
     "data": {
      "text/html": [
       "<div>\n",
       "<style scoped>\n",
       "    .dataframe tbody tr th:only-of-type {\n",
       "        vertical-align: middle;\n",
       "    }\n",
       "\n",
       "    .dataframe tbody tr th {\n",
       "        vertical-align: top;\n",
       "    }\n",
       "\n",
       "    .dataframe thead th {\n",
       "        text-align: right;\n",
       "    }\n",
       "</style>\n",
       "<table border=\"1\" class=\"dataframe\">\n",
       "  <thead>\n",
       "    <tr style=\"text-align: right;\">\n",
       "      <th></th>\n",
       "      <th>Open</th>\n",
       "      <th>High</th>\n",
       "      <th>Low</th>\n",
       "      <th>Close</th>\n",
       "      <th>Adj Close</th>\n",
       "      <th>Volume</th>\n",
       "    </tr>\n",
       "    <tr>\n",
       "      <th>Date</th>\n",
       "      <th></th>\n",
       "      <th></th>\n",
       "      <th></th>\n",
       "      <th></th>\n",
       "      <th></th>\n",
       "      <th></th>\n",
       "    </tr>\n",
       "  </thead>\n",
       "  <tbody>\n",
       "    <tr>\n",
       "      <th>2010-01-04</th>\n",
       "      <td>33.375000</td>\n",
       "      <td>33.875000</td>\n",
       "      <td>33.375000</td>\n",
       "      <td>33.825001</td>\n",
       "      <td>23.078617</td>\n",
       "      <td>6739900</td>\n",
       "    </tr>\n",
       "    <tr>\n",
       "      <th>2010-01-05</th>\n",
       "      <td>33.875000</td>\n",
       "      <td>34.099998</td>\n",
       "      <td>33.775002</td>\n",
       "      <td>34.000000</td>\n",
       "      <td>23.198017</td>\n",
       "      <td>2981928</td>\n",
       "    </tr>\n",
       "    <tr>\n",
       "      <th>2010-01-07</th>\n",
       "      <td>33.724998</td>\n",
       "      <td>34.224998</td>\n",
       "      <td>33.674999</td>\n",
       "      <td>33.900002</td>\n",
       "      <td>23.129789</td>\n",
       "      <td>6745776</td>\n",
       "    </tr>\n",
       "    <tr>\n",
       "      <th>2010-01-08</th>\n",
       "      <td>34.049999</td>\n",
       "      <td>34.099998</td>\n",
       "      <td>33.750000</td>\n",
       "      <td>33.950001</td>\n",
       "      <td>23.163902</td>\n",
       "      <td>5780292</td>\n",
       "    </tr>\n",
       "    <tr>\n",
       "      <th>2010-01-11</th>\n",
       "      <td>34.125000</td>\n",
       "      <td>34.250000</td>\n",
       "      <td>33.900002</td>\n",
       "      <td>33.950001</td>\n",
       "      <td>23.163902</td>\n",
       "      <td>5140340</td>\n",
       "    </tr>\n",
       "  </tbody>\n",
       "</table>\n",
       "</div>"
      ],
      "text/plain": [
       "                 Open       High        Low      Close  Adj Close   Volume\n",
       "Date                                                                      \n",
       "2010-01-04  33.375000  33.875000  33.375000  33.825001  23.078617  6739900\n",
       "2010-01-05  33.875000  34.099998  33.775002  34.000000  23.198017  2981928\n",
       "2010-01-07  33.724998  34.224998  33.674999  33.900002  23.129789  6745776\n",
       "2010-01-08  34.049999  34.099998  33.750000  33.950001  23.163902  5780292\n",
       "2010-01-11  34.125000  34.250000  33.900002  33.950001  23.163902  5140340"
      ]
     },
     "execution_count": 30,
     "metadata": {},
     "output_type": "execute_result"
    }
   ],
   "source": [
    "import pandas as pd\n",
    "import numpy as np\n",
    "import yfinance as yf\n",
    "import tensorflow as tf\n",
    "import matplotlib.pyplot as plt\n",
    "from tensorflow.keras.models import Sequential\n",
    "from tensorflow.keras.layers import Dense,LSTM\n",
    "\n",
    "start_date = '2010-01-01'\n",
    "end_date = '2020-01-01'\n",
    "ticker = 'INVE-B.ST'\n",
    "df = yf.download(ticker, start_date, end_date)\n",
    "df.index = df.index.date\n",
    "df.index.name = \"Date\"\n",
    "\n",
    "df.head()"
   ]
  },
  {
   "cell_type": "code",
   "execution_count": null,
   "metadata": {},
   "outputs": [],
   "source": [
    "df1 = df.reset_index()['Adj Close']\n",
    "\n",
    "plt.plot(df1)"
   ]
  },
  {
   "attachments": {},
   "cell_type": "markdown",
   "metadata": {},
   "source": [
    "We want to scale the dataset in order to use it for LSTM."
   ]
  },
  {
   "cell_type": "code",
   "execution_count": null,
   "metadata": {},
   "outputs": [],
   "source": [
    "from sklearn.preprocessing import MinMaxScaler\n",
    "\n",
    "scaler=MinMaxScaler(feature_range=(0,1))\n",
    "df1 = scaler.fit_transform(np.array(df1).reshape(-1,1))\n",
    "df1"
   ]
  },
  {
   "attachments": {},
   "cell_type": "markdown",
   "metadata": {},
   "source": [
    "Now we can split it into training and testing"
   ]
  },
  {
   "cell_type": "code",
   "execution_count": null,
   "metadata": {},
   "outputs": [],
   "source": [
    "training_size = int(len(df1)*0.8)\n",
    "test_size = len(df1)-training_size\n",
    "train_data, test_data =df1[0:training_size,:],df1[training_size:len(df1),:1]\n",
    "\n",
    "print(training_size, test_size)"
   ]
  },
  {
   "attachments": {},
   "cell_type": "markdown",
   "metadata": {},
   "source": [
    "now we convert the values into a dataset matrix using this function."
   ]
  },
  {
   "cell_type": "code",
   "execution_count": 44,
   "metadata": {},
   "outputs": [],
   "source": [
    "def create_dataset (dataset, time_step=1):\n",
    "    dataX,dataY = [],[]\n",
    "    for i in range(len(dataset)-time_step-1):\n",
    "        a = dataset[i:(i+time_step),0]\n",
    "        dataX.append(a)\n",
    "        dataY.append(dataset[i + time_step,0])\n",
    "    return np.array(dataX),np.array(dataY)"
   ]
  },
  {
   "cell_type": "code",
   "execution_count": 45,
   "metadata": {},
   "outputs": [
    {
     "name": "stdout",
     "output_type": "stream",
     "text": [
      "(1907, 100) (1907,)\n",
      "(402, 100) (402,)\n"
     ]
    }
   ],
   "source": [
    "time_step = 100\n",
    "\n",
    "X_train,y_train = create_dataset(train_data,time_step)\n",
    "X_test,y_test = create_dataset(test_data, time_step)\n",
    "print(X_train.shape,y_train.shape)\n",
    "print(X_test.shape,y_test.shape)"
   ]
  },
  {
   "attachments": {},
   "cell_type": "markdown",
   "metadata": {},
   "source": [
    "Now we reshape the input to be [sample, time steps, features]"
   ]
  },
  {
   "cell_type": "code",
   "execution_count": 46,
   "metadata": {},
   "outputs": [
    {
     "name": "stdout",
     "output_type": "stream",
     "text": [
      "(1907, 100, 1) (402, 100, 1)\n"
     ]
    }
   ],
   "source": [
    "X_train = X_train.reshape(X_train.shape[0],X_train.shape[1],1)\n",
    "X_test = X_test.reshape(X_test.shape[0],X_test.shape[1],1)\n",
    "print(X_train.shape,X_test.shape)"
   ]
  },
  {
   "attachments": {},
   "cell_type": "markdown",
   "metadata": {},
   "source": [
    "Now we can create the LSTM model"
   ]
  },
  {
   "cell_type": "code",
   "execution_count": 93,
   "metadata": {},
   "outputs": [],
   "source": [
    "tf.keras.backend.clear_session()\n",
    "model = Sequential()\n",
    "model.add(LSTM(50, input_shape=(time_step, 1)))\n",
    "model.add(Dense(1))\n",
    "model.compile(loss='mean_squared_error', optimizer='adam')"
   ]
  },
  {
   "cell_type": "code",
   "execution_count": 94,
   "metadata": {},
   "outputs": [
    {
     "name": "stdout",
     "output_type": "stream",
     "text": [
      "Model: \"sequential\"\n",
      "_________________________________________________________________\n",
      " Layer (type)                Output Shape              Param #   \n",
      "=================================================================\n",
      " lstm (LSTM)                 (None, 50)                10400     \n",
      "                                                                 \n",
      " dense (Dense)               (None, 1)                 51        \n",
      "                                                                 \n",
      "=================================================================\n",
      "Total params: 10,451\n",
      "Trainable params: 10,451\n",
      "Non-trainable params: 0\n",
      "_________________________________________________________________\n"
     ]
    }
   ],
   "source": [
    "model.summary()"
   ]
  },
  {
   "cell_type": "code",
   "execution_count": 95,
   "metadata": {},
   "outputs": [
    {
     "name": "stdout",
     "output_type": "stream",
     "text": [
      "Epoch 1/100\n",
      "30/30 [==============================] - 3s 42ms/step - loss: 0.0341 - val_loss: 0.0346\n",
      "Epoch 2/100\n",
      "30/30 [==============================] - 1s 31ms/step - loss: 0.0018 - val_loss: 0.0019\n",
      "Epoch 3/100\n",
      "30/30 [==============================] - 1s 30ms/step - loss: 3.4957e-04 - val_loss: 4.3938e-04\n",
      "Epoch 4/100\n",
      "30/30 [==============================] - 1s 31ms/step - loss: 2.7046e-04 - val_loss: 4.5312e-04\n",
      "Epoch 5/100\n",
      "30/30 [==============================] - 1s 30ms/step - loss: 2.4695e-04 - val_loss: 4.8519e-04\n",
      "Epoch 6/100\n",
      "30/30 [==============================] - 1s 30ms/step - loss: 2.3697e-04 - val_loss: 5.1710e-04\n",
      "Epoch 7/100\n",
      "30/30 [==============================] - 1s 30ms/step - loss: 2.2624e-04 - val_loss: 7.3287e-04\n",
      "Epoch 8/100\n",
      "30/30 [==============================] - 1s 31ms/step - loss: 2.1759e-04 - val_loss: 7.9715e-04\n",
      "Epoch 9/100\n",
      "30/30 [==============================] - 1s 32ms/step - loss: 2.1050e-04 - val_loss: 8.5950e-04\n",
      "Epoch 10/100\n",
      "30/30 [==============================] - 1s 31ms/step - loss: 2.0813e-04 - val_loss: 8.8078e-04\n",
      "Epoch 11/100\n",
      "30/30 [==============================] - 1s 30ms/step - loss: 2.0940e-04 - val_loss: 6.7656e-04\n",
      "Epoch 12/100\n",
      "30/30 [==============================] - 1s 30ms/step - loss: 2.0451e-04 - val_loss: 8.0436e-04\n",
      "Epoch 13/100\n",
      "30/30 [==============================] - 1s 31ms/step - loss: 2.0407e-04 - val_loss: 0.0010\n",
      "Epoch 14/100\n",
      "30/30 [==============================] - 1s 31ms/step - loss: 1.9701e-04 - val_loss: 6.9267e-04\n",
      "Epoch 15/100\n",
      "30/30 [==============================] - 1s 30ms/step - loss: 1.9625e-04 - val_loss: 9.6222e-04\n",
      "Epoch 16/100\n",
      "30/30 [==============================] - 1s 30ms/step - loss: 1.9579e-04 - val_loss: 7.1001e-04\n",
      "Epoch 17/100\n",
      "30/30 [==============================] - 1s 32ms/step - loss: 1.8783e-04 - val_loss: 8.1343e-04\n",
      "Epoch 18/100\n",
      "30/30 [==============================] - 1s 30ms/step - loss: 1.8647e-04 - val_loss: 6.2373e-04\n",
      "Epoch 19/100\n",
      "30/30 [==============================] - 1s 30ms/step - loss: 1.8451e-04 - val_loss: 5.9659e-04\n",
      "Epoch 20/100\n",
      "30/30 [==============================] - 1s 30ms/step - loss: 1.8189e-04 - val_loss: 5.2428e-04\n",
      "Epoch 21/100\n",
      "30/30 [==============================] - 1s 31ms/step - loss: 1.8277e-04 - val_loss: 6.5611e-04\n",
      "Epoch 22/100\n",
      "30/30 [==============================] - 1s 30ms/step - loss: 1.8171e-04 - val_loss: 5.0213e-04\n",
      "Epoch 23/100\n",
      "30/30 [==============================] - 1s 30ms/step - loss: 1.7454e-04 - val_loss: 7.2739e-04\n",
      "Epoch 24/100\n",
      "30/30 [==============================] - 1s 32ms/step - loss: 1.7174e-04 - val_loss: 6.4165e-04\n",
      "Epoch 25/100\n",
      "30/30 [==============================] - 1s 33ms/step - loss: 1.7079e-04 - val_loss: 5.3338e-04\n",
      "Epoch 26/100\n",
      "30/30 [==============================] - 1s 31ms/step - loss: 1.6680e-04 - val_loss: 6.5339e-04\n",
      "Epoch 27/100\n",
      "30/30 [==============================] - 1s 30ms/step - loss: 1.6868e-04 - val_loss: 6.7782e-04\n",
      "Epoch 28/100\n",
      "30/30 [==============================] - 1s 31ms/step - loss: 1.6895e-04 - val_loss: 4.0119e-04\n",
      "Epoch 29/100\n",
      "30/30 [==============================] - 1s 30ms/step - loss: 1.6104e-04 - val_loss: 5.7989e-04\n",
      "Epoch 30/100\n",
      "30/30 [==============================] - 1s 30ms/step - loss: 1.5806e-04 - val_loss: 4.2753e-04\n",
      "Epoch 31/100\n",
      "30/30 [==============================] - 1s 30ms/step - loss: 1.5964e-04 - val_loss: 6.8500e-04\n",
      "Epoch 32/100\n",
      "30/30 [==============================] - 1s 31ms/step - loss: 1.5428e-04 - val_loss: 4.8630e-04\n",
      "Epoch 33/100\n",
      "30/30 [==============================] - 1s 30ms/step - loss: 1.4990e-04 - val_loss: 3.8635e-04\n",
      "Epoch 34/100\n",
      "30/30 [==============================] - 1s 31ms/step - loss: 1.5685e-04 - val_loss: 3.4036e-04\n",
      "Epoch 35/100\n",
      "30/30 [==============================] - 1s 32ms/step - loss: 1.4633e-04 - val_loss: 4.6460e-04\n",
      "Epoch 36/100\n",
      "30/30 [==============================] - 1s 30ms/step - loss: 1.5127e-04 - val_loss: 4.6786e-04\n",
      "Epoch 37/100\n",
      "30/30 [==============================] - 1s 30ms/step - loss: 1.5230e-04 - val_loss: 3.5668e-04\n",
      "Epoch 38/100\n",
      "30/30 [==============================] - 1s 30ms/step - loss: 1.4858e-04 - val_loss: 5.4091e-04\n",
      "Epoch 39/100\n",
      "30/30 [==============================] - 1s 32ms/step - loss: 1.4067e-04 - val_loss: 4.7422e-04\n",
      "Epoch 40/100\n",
      "30/30 [==============================] - 1s 31ms/step - loss: 1.4020e-04 - val_loss: 3.5451e-04\n",
      "Epoch 41/100\n",
      "30/30 [==============================] - 1s 31ms/step - loss: 1.3866e-04 - val_loss: 3.7568e-04\n",
      "Epoch 42/100\n",
      "30/30 [==============================] - 1s 31ms/step - loss: 1.3720e-04 - val_loss: 3.4654e-04\n",
      "Epoch 43/100\n",
      "30/30 [==============================] - 1s 31ms/step - loss: 1.4230e-04 - val_loss: 5.7652e-04\n",
      "Epoch 44/100\n",
      "30/30 [==============================] - 1s 34ms/step - loss: 1.4972e-04 - val_loss: 5.5286e-04\n",
      "Epoch 45/100\n",
      "30/30 [==============================] - 1s 31ms/step - loss: 1.3313e-04 - val_loss: 3.2942e-04\n",
      "Epoch 46/100\n",
      "30/30 [==============================] - 1s 31ms/step - loss: 1.3475e-04 - val_loss: 3.7242e-04\n",
      "Epoch 47/100\n",
      "30/30 [==============================] - 1s 31ms/step - loss: 1.3121e-04 - val_loss: 2.9747e-04\n",
      "Epoch 48/100\n",
      "30/30 [==============================] - 1s 31ms/step - loss: 1.2887e-04 - val_loss: 3.3945e-04\n",
      "Epoch 49/100\n",
      "30/30 [==============================] - 1s 30ms/step - loss: 1.2691e-04 - val_loss: 2.9896e-04\n",
      "Epoch 50/100\n",
      "30/30 [==============================] - 1s 31ms/step - loss: 1.3580e-04 - val_loss: 2.9817e-04\n",
      "Epoch 51/100\n",
      "30/30 [==============================] - 1s 32ms/step - loss: 1.2699e-04 - val_loss: 5.5246e-04\n",
      "Epoch 52/100\n",
      "30/30 [==============================] - 1s 31ms/step - loss: 1.3252e-04 - val_loss: 2.9728e-04\n",
      "Epoch 53/100\n",
      "30/30 [==============================] - 1s 31ms/step - loss: 1.1972e-04 - val_loss: 3.3996e-04\n",
      "Epoch 54/100\n",
      "30/30 [==============================] - 1s 31ms/step - loss: 1.2116e-04 - val_loss: 4.0204e-04\n",
      "Epoch 55/100\n",
      "30/30 [==============================] - 1s 32ms/step - loss: 1.2367e-04 - val_loss: 3.4785e-04\n",
      "Epoch 56/100\n",
      "30/30 [==============================] - 1s 31ms/step - loss: 1.2172e-04 - val_loss: 3.0014e-04\n",
      "Epoch 57/100\n",
      "30/30 [==============================] - 1s 31ms/step - loss: 1.2872e-04 - val_loss: 5.7188e-04\n",
      "Epoch 58/100\n",
      "30/30 [==============================] - 1s 31ms/step - loss: 1.2371e-04 - val_loss: 2.6509e-04\n",
      "Epoch 59/100\n",
      "30/30 [==============================] - 1s 33ms/step - loss: 1.1450e-04 - val_loss: 2.6801e-04\n",
      "Epoch 60/100\n",
      "30/30 [==============================] - 1s 32ms/step - loss: 1.1457e-04 - val_loss: 3.9271e-04\n",
      "Epoch 61/100\n",
      "30/30 [==============================] - 1s 37ms/step - loss: 1.1234e-04 - val_loss: 3.4260e-04\n",
      "Epoch 62/100\n",
      "30/30 [==============================] - 1s 32ms/step - loss: 1.2154e-04 - val_loss: 2.6037e-04\n",
      "Epoch 63/100\n",
      "30/30 [==============================] - 1s 32ms/step - loss: 1.1737e-04 - val_loss: 2.7745e-04\n",
      "Epoch 64/100\n",
      "30/30 [==============================] - 1s 32ms/step - loss: 1.2307e-04 - val_loss: 5.3521e-04\n",
      "Epoch 65/100\n",
      "30/30 [==============================] - 1s 32ms/step - loss: 1.1559e-04 - val_loss: 3.1873e-04\n",
      "Epoch 66/100\n",
      "30/30 [==============================] - 1s 32ms/step - loss: 1.1015e-04 - val_loss: 3.8171e-04\n",
      "Epoch 67/100\n",
      "30/30 [==============================] - 1s 34ms/step - loss: 1.1118e-04 - val_loss: 2.5127e-04\n",
      "Epoch 68/100\n",
      "30/30 [==============================] - 1s 32ms/step - loss: 1.0905e-04 - val_loss: 2.4568e-04\n",
      "Epoch 69/100\n",
      "30/30 [==============================] - 1s 32ms/step - loss: 1.0485e-04 - val_loss: 3.3295e-04\n",
      "Epoch 70/100\n",
      "30/30 [==============================] - 1s 32ms/step - loss: 1.0634e-04 - val_loss: 2.4407e-04\n",
      "Epoch 71/100\n",
      "30/30 [==============================] - 1s 32ms/step - loss: 1.0622e-04 - val_loss: 2.3748e-04\n",
      "Epoch 72/100\n",
      "30/30 [==============================] - 1s 33ms/step - loss: 1.0317e-04 - val_loss: 3.0772e-04\n",
      "Epoch 73/100\n",
      "30/30 [==============================] - 1s 32ms/step - loss: 1.0522e-04 - val_loss: 3.2732e-04\n",
      "Epoch 74/100\n",
      "30/30 [==============================] - 1s 32ms/step - loss: 9.8057e-05 - val_loss: 2.6802e-04\n",
      "Epoch 75/100\n",
      "30/30 [==============================] - 1s 34ms/step - loss: 9.8525e-05 - val_loss: 2.9263e-04\n",
      "Epoch 76/100\n",
      "30/30 [==============================] - 1s 32ms/step - loss: 9.7432e-05 - val_loss: 3.1384e-04\n",
      "Epoch 77/100\n",
      "30/30 [==============================] - 1s 32ms/step - loss: 1.0321e-04 - val_loss: 2.2357e-04\n",
      "Epoch 78/100\n",
      "30/30 [==============================] - 1s 32ms/step - loss: 9.6616e-05 - val_loss: 2.5252e-04\n",
      "Epoch 79/100\n",
      "30/30 [==============================] - 1s 32ms/step - loss: 1.0006e-04 - val_loss: 2.2073e-04\n",
      "Epoch 80/100\n",
      "30/30 [==============================] - 1s 32ms/step - loss: 9.4804e-05 - val_loss: 3.2630e-04\n",
      "Epoch 81/100\n",
      "30/30 [==============================] - 1s 32ms/step - loss: 9.8026e-05 - val_loss: 3.1821e-04\n",
      "Epoch 82/100\n",
      "30/30 [==============================] - 1s 32ms/step - loss: 9.1943e-05 - val_loss: 2.8960e-04\n",
      "Epoch 83/100\n",
      "30/30 [==============================] - 1s 33ms/step - loss: 9.4210e-05 - val_loss: 2.2749e-04\n",
      "Epoch 84/100\n",
      "30/30 [==============================] - 1s 31ms/step - loss: 9.0735e-05 - val_loss: 2.6339e-04\n",
      "Epoch 85/100\n",
      "30/30 [==============================] - 1s 31ms/step - loss: 8.8520e-05 - val_loss: 3.9334e-04\n",
      "Epoch 86/100\n",
      "30/30 [==============================] - 1s 31ms/step - loss: 9.5169e-05 - val_loss: 2.0864e-04\n",
      "Epoch 87/100\n",
      "30/30 [==============================] - 1s 31ms/step - loss: 8.6871e-05 - val_loss: 3.1067e-04\n",
      "Epoch 88/100\n",
      "30/30 [==============================] - 1s 31ms/step - loss: 8.3526e-05 - val_loss: 2.5071e-04\n",
      "Epoch 89/100\n",
      "30/30 [==============================] - 1s 31ms/step - loss: 8.9823e-05 - val_loss: 6.5678e-04\n",
      "Epoch 90/100\n",
      "30/30 [==============================] - 1s 32ms/step - loss: 9.3676e-05 - val_loss: 2.0310e-04\n",
      "Epoch 91/100\n",
      "30/30 [==============================] - 1s 30ms/step - loss: 9.1096e-05 - val_loss: 2.3149e-04\n",
      "Epoch 92/100\n",
      "30/30 [==============================] - 1s 31ms/step - loss: 8.9693e-05 - val_loss: 2.7331e-04\n",
      "Epoch 93/100\n",
      "30/30 [==============================] - 1s 30ms/step - loss: 8.4727e-05 - val_loss: 2.8586e-04\n",
      "Epoch 94/100\n",
      "30/30 [==============================] - 1s 31ms/step - loss: 7.8142e-05 - val_loss: 2.9455e-04\n",
      "Epoch 95/100\n",
      "30/30 [==============================] - 1s 31ms/step - loss: 8.0368e-05 - val_loss: 2.6653e-04\n",
      "Epoch 96/100\n",
      "30/30 [==============================] - 1s 31ms/step - loss: 7.6677e-05 - val_loss: 2.0277e-04\n",
      "Epoch 97/100\n",
      "30/30 [==============================] - 1s 32ms/step - loss: 8.0701e-05 - val_loss: 1.9640e-04\n",
      "Epoch 98/100\n",
      "30/30 [==============================] - 1s 31ms/step - loss: 7.7459e-05 - val_loss: 2.2087e-04\n",
      "Epoch 99/100\n",
      "30/30 [==============================] - 1s 31ms/step - loss: 7.6500e-05 - val_loss: 2.9449e-04\n",
      "Epoch 100/100\n",
      "30/30 [==============================] - 1s 31ms/step - loss: 7.9576e-05 - val_loss: 3.1224e-04\n"
     ]
    },
    {
     "data": {
      "text/plain": [
       "<keras.callbacks.History at 0x192016fa6e0>"
      ]
     },
     "execution_count": 95,
     "metadata": {},
     "output_type": "execute_result"
    }
   ],
   "source": [
    "model.fit(X_train,y_train,validation_data=(X_test,y_test),epochs=100,batch_size=64,verbose=1)"
   ]
  },
  {
   "cell_type": "code",
   "execution_count": 96,
   "metadata": {},
   "outputs": [
    {
     "name": "stdout",
     "output_type": "stream",
     "text": [
      "60/60 [==============================] - 1s 8ms/step\n",
      "13/13 [==============================] - 0s 7ms/step\n",
      "(1907, 1) (402, 1)\n"
     ]
    }
   ],
   "source": [
    "train_predict=model.predict(X_train)\n",
    "test_predict=model.predict(X_test)\n",
    "\n",
    "print(train_predict.shape,test_predict.shape)"
   ]
  },
  {
   "cell_type": "code",
   "execution_count": 97,
   "metadata": {},
   "outputs": [],
   "source": [
    "train_predict=scaler.inverse_transform(train_predict)\n",
    "test_predict=scaler.inverse_transform(test_predict)"
   ]
  },
  {
   "cell_type": "code",
   "execution_count": 100,
   "metadata": {},
   "outputs": [
    {
     "name": "stdout",
     "output_type": "stream",
     "text": [
      "0.008917459836559564\n",
      "0.01767041250310276\n",
      "0.9981972036929716\n",
      "0.9739746335983674\n"
     ]
    }
   ],
   "source": [
    "import math\n",
    "from sklearn.metrics import mean_squared_error,r2_score\n",
    "print(math.sqrt(mean_squared_error(y_train,train_predict)))\n",
    "print(math.sqrt(mean_squared_error(y_test,test_predict)))\n",
    "print(r2_score(y_train,train_predict))\n",
    "print(r2_score(y_test,test_predict))"
   ]
  },
  {
   "cell_type": "code",
   "execution_count": 99,
   "metadata": {},
   "outputs": [
    {
     "data": {
      "image/png": "[encoded data removed]",
      "text/plain": [
       "<Figure size 640x480 with 1 Axes>"
      ]
     },
     "metadata": {},
     "output_type": "display_data"
    }
   ],
   "source": [
    "look_back=100\n",
    "trainPredictPlot = np.empty_like(df1)\n",
    "trainPredictPlot[:, :] = np.nan\n",
    "trainPredictPlot[look_back:len(train_predict)+look_back, :] = train_predict\n",
    "# shift test predictions for plotting\n",
    "testPredictPlot = np.empty_like(df1)\n",
    "testPredictPlot[:, :] = np.nan\n",
    "testPredictPlot[len(train_predict)+(look_back*2)+1:len(df1)-1, :] = test_predict\n",
    "# plot baseline and predictions\n",
    "plt.plot(scaler.inverse_transform(df1))\n",
    "plt.plot(trainPredictPlot)\n",
    "plt.plot(testPredictPlot)\n",
    "plt.show()"
   ]
  },
  {
   "cell_type": "code",
   "execution_count": null,
   "metadata": {},
   "outputs": [],
   "source": []
  }
 ],
 "metadata": {
  "kernelspec": {
   "display_name": ".venv",
   "language": "python",
   "name": "python3"
  },
  "language_info": {
   "codemirror_mode": {
    "name": "ipython",
    "version": 3
   },
   "file_extension": ".py",
   "mimetype": "text/x-python",
   "name": "python",
   "nbconvert_exporter": "python",
   "pygments_lexer": "ipython3",
   "version": "3.10.9"
  },
  "orig_nbformat": 4
 },
 "nbformat": 4,
 "nbformat_minor": 2
}
